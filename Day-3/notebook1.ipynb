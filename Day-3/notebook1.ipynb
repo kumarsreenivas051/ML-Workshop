{
 "cells": [
  {
   "cell_type": "code",
   "execution_count": null,
   "metadata": {
    "collapsed": true
   },
   "outputs": [],
   "source": [
    "import pandas as pd\n",
    "weather_data = {\n",
    "    'day':['1/1/2017','1/2/2017,','2/5/2017','1/4/2017','1/6/2017','1/7/2017'],\n",
    "    'temperature':[32,35,28,24,32,31],\n",
    "    'windspeed':[6,7,2,7,3,5],\n",
    "    'event':['Rain','Sunny','Snow','Snow','Rain','Sunny']\n",
    "}\n",
    "df=pd.DataFrame(weather_data)\n",
    "df"
   ]
  },
  {
   "cell_type": "code",
   "execution_count": null,
   "metadata": {},
   "outputs": [],
   "source": []
  }
 ],
 "metadata": {
  "kernelspec": {
   "display_name": "Python 2",
   "language": "python",
   "name": "python2"
  },
  "language_info": {
   "codemirror_mode": {
    "name": "ipython",
    "version": 2
   },
   "file_extension": ".py",
   "mimetype": "text/x-python",
   "name": "python",
   "nbconvert_exporter": "python",
   "pygments_lexer": "ipython2",
   "version": "2.7.6"
  }
 },
 "nbformat": 4,
 "nbformat_minor": 0
}
